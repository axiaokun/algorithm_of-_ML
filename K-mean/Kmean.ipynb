{
 "cells": [
  {
   "cell_type": "code",
   "execution_count": 1,
   "metadata": {},
   "outputs": [],
   "source": [
    "import numpy as np\n",
    "from sklearn.datasets import load_iris"
   ]
  },
  {
   "cell_type": "code",
   "execution_count": 2,
   "metadata": {},
   "outputs": [],
   "source": [
    "class Kmean_simple():\n",
    "    \"\"\"一个简单的K_mean模型\"\"\"\n",
    "    def __init__(self, k=2, max_iterations=500):\n",
    "        self.k = k\n",
    "        self.max_iterations = max_iterations\n",
    "\n",
    "    def _init_centers(self, X):\n",
    "        \"\"\"创建第一批中心点\"\"\"\n",
    "        n_sample, n_featrue = X.shape[0], X.shape[1]\n",
    "        centers = np.zeros((self.k, n_featrue))\n",
    "        for i in range(self.k):\n",
    "            center = X[np.random.randint(n_sample)]\n",
    "            centers[i] = center\n",
    "        return centers\n",
    "\n",
    "    def _create_complexs(self, X, centres):\n",
    "        \"\"\"创建各个类的集合体\"\"\"\n",
    "        complexs = [[] for _ in range(self.k)]\n",
    "        for i_index, i_sample in enumerate(X):\n",
    "            init_distance = float('inf')\n",
    "            for j_index, j_center in enumerate(centres):\n",
    "                distance = np.linalg.norm(i_sample - j_center)\n",
    "                if distance < init_distance:\n",
    "                    init_distance = distance\n",
    "                    sample_type = j_index\n",
    "            complexs[sample_type].append(i_index)\n",
    "        return complexs\n",
    "\n",
    "    def _recenters(self, X, complexs):\n",
    "        \"\"\"重新修改中心点\"\"\"\n",
    "        n_featrue = X.shape[1]\n",
    "        centers = np.zeros((self.k, n_featrue))\n",
    "        for type_index, type_value in enumerate(complexs):\n",
    "            new_center = np.mean(X[type_value], axis=0)\n",
    "            centers[type_index] = new_center\n",
    "        return centers\n",
    "\n",
    "    def _get_results(self, X, complexs):\n",
    "        \"\"\"得出最后的结果\"\"\"\n",
    "        result_predict = np.zeros((X.shape[0], ))\n",
    "        for type_index, type_value in enumerate(complexs):\n",
    "            for sample_index in type_value:\n",
    "                result_predict[sample_index] = type_index\n",
    "        return result_predict\n",
    "\n",
    "    def predict(self, X):\n",
    "        centres = self._init_centers(X)\n",
    "        time = 0\n",
    "        while time < self.max_iterations:\n",
    "            time += 1\n",
    "            complexs = self._create_complexs(X, centres)\n",
    "            pre_centers = centres\n",
    "            centres = self._recenters(X, complexs)\n",
    "            if np.linalg.norm(centres-pre_centers) == 0:\n",
    "                return self._get_results(X, complexs)"
   ]
  },
  {
   "cell_type": "code",
   "execution_count": 7,
   "metadata": {
    "scrolled": true
   },
   "outputs": [
    {
     "data": {
      "text/plain": [
       "(array([1., 1., 1., 1., 1., 1., 1., 1., 1., 1., 1., 1., 1., 1., 1., 1., 1.,\n",
       "        1., 1., 1., 1., 1., 1., 1., 1., 1., 1., 1., 1., 1., 1., 1., 1., 1.,\n",
       "        1., 1., 1., 1., 1., 1., 1., 1., 1., 1., 1., 1., 1., 1., 1., 1., 0.,\n",
       "        0., 0., 0., 0., 0., 0., 0., 0., 0., 0., 0., 0., 0., 0., 0., 0., 0.,\n",
       "        0., 0., 0., 0., 0., 0., 0., 0., 0., 2., 0., 0., 0., 0., 0., 2., 0.,\n",
       "        0., 0., 0., 0., 0., 0., 0., 0., 0., 0., 0., 0., 0., 0., 0., 2., 2.,\n",
       "        2., 2., 2., 2., 0., 2., 2., 2., 2., 2., 2., 2., 2., 2., 2., 2., 2.,\n",
       "        0., 2., 2., 2., 2., 2., 2., 0., 2., 2., 2., 2., 2., 2., 2., 2., 2.,\n",
       "        2., 2., 0., 2., 2., 2., 2., 2., 2., 2., 2., 2., 2., 2.]),\n",
       " array([0, 0, 0, 0, 0, 0, 0, 0, 0, 0, 0, 0, 0, 0, 0, 0, 0, 0, 0, 0, 0, 0,\n",
       "        0, 0, 0, 0, 0, 0, 0, 0, 0, 0, 0, 0, 0, 0, 0, 0, 0, 0, 0, 0, 0, 0,\n",
       "        0, 0, 0, 0, 0, 0, 1, 1, 1, 1, 1, 1, 1, 1, 1, 1, 1, 1, 1, 1, 1, 1,\n",
       "        1, 1, 1, 1, 1, 1, 1, 1, 1, 1, 1, 1, 1, 1, 1, 1, 1, 1, 1, 1, 1, 1,\n",
       "        1, 1, 1, 1, 1, 1, 1, 1, 1, 1, 1, 1, 2, 2, 2, 2, 2, 2, 2, 2, 2, 2,\n",
       "        2, 2, 2, 2, 2, 2, 2, 2, 2, 2, 2, 2, 2, 2, 2, 2, 2, 2, 2, 2, 2, 2,\n",
       "        2, 2, 2, 2, 2, 2, 2, 2, 2, 2, 2, 2, 2, 2, 2, 2, 2, 2]))"
      ]
     },
     "execution_count": 7,
     "metadata": {},
     "output_type": "execute_result"
    }
   ],
   "source": [
    "iris = load_iris()\n",
    "X = iris['data'][:, (2, 3)] # 只取后两个特征，一个是为了方便画图\n",
    "y = iris['target']# 二确实是使用最后俩个特征效果更好\n",
    "KMean = Kmean_simple(k=3)\n",
    "result = KMean.predict(X)\n",
    "result, y # 看一下聚类结果和原来情况"
   ]
  },
  {
   "cell_type": "code",
   "execution_count": 4,
   "metadata": {},
   "outputs": [],
   "source": [
    "import matplotlib.pyplot as plt\n",
    "%matplotlib inline"
   ]
  },
  {
   "cell_type": "code",
   "execution_count": 8,
   "metadata": {},
   "outputs": [],
   "source": [
    "def draw_pot(X, y):\n",
    "    x_1 = X[:, 0][y == 0]\n",
    "    x_2 = X[:, 1][y == 0]\n",
    "    plt.plot(x_1, x_2, 'b+')\n",
    "    x_1 = X[:, 0][y == 1]\n",
    "    x_2 = X[:, 1][y == 1]\n",
    "    plt.plot(x_1, x_2, 'g^')\n",
    "    x_1 = X[:, 0][y == 2]\n",
    "    x_2 = X[:, 1][y == 2]\n",
    "    plt.plot(x_1, x_2, 'r*')\n",
    "    plt.show # 绘制原来的效果"
   ]
  },
  {
   "cell_type": "code",
   "execution_count": 12,
   "metadata": {},
   "outputs": [
    {
     "data": {
      "image/png": "[encoded data removed]",
      "text/plain": [
       "<Figure size 432x288 with 2 Axes>"
      ]
     },
     "metadata": {
      "needs_background": "light"
     },
     "output_type": "display_data"
    }
   ],
   "source": [
    "plt.subplot(121)\n",
    "draw_pot(X, result)\n",
    "plt.subplot(122)\n",
    "draw_pot(X, y)"
   ]
  },
  {
   "cell_type": "code",
   "execution_count": null,
   "metadata": {},
   "outputs": [],
   "source": []
  }
 ],
 "metadata": {
  "kernelspec": {
   "display_name": "Python 3",
   "language": "python",
   "name": "python3"
  },
  "language_info": {
   "codemirror_mode": {
    "name": "ipython",
    "version": 3
   },
   "file_extension": ".py",
   "mimetype": "text/x-python",
   "name": "python",
   "nbconvert_exporter": "python",
   "pygments_lexer": "ipython3",
   "version": "3.7.3"
  }
 },
 "nbformat": 4,
 "nbformat_minor": 2
}
