{
 "cells": [
  {
   "cell_type": "code",
   "execution_count": 1,
   "metadata": {},
   "outputs": [],
   "source": [
    "import numpy as np\n",
    "from collections import Counter"
   ]
  },
  {
   "cell_type": "code",
   "execution_count": 2,
   "metadata": {},
   "outputs": [],
   "source": [
    "\"\"\"\n",
    "功能：计算分类准确率(所有分类正确的百分比)\n",
    "函数参数：\n",
    "y_true 为测试数据的真实目标值\n",
    "y_predict 为测试数据的的预测目标值\n",
    "\"\"\"\n",
    "def accuracy_score(y_true, y_predict):\n",
    "    \"\"\"计算分类准确率(所有分类正确的百分比)\"\"\"\n",
    "    s = 0\n",
    "    right = 0\n",
    "    for i in y_true:\n",
    "        if y_predict[s] == i:\n",
    "            right += 1\n",
    "        s += 1\n",
    "    return right / s"
   ]
  },
  {
   "cell_type": "code",
   "execution_count": 3,
   "metadata": {},
   "outputs": [],
   "source": [
    "\"\"\"\n",
    "功能：将数据 X 和 y 按照test_ratio分割成X_train, X_test, y_train, y_test\n",
    "\n",
    "参数：\n",
    "x 为特征值数据集\n",
    "y 为目标值数据集\n",
    "test_radio 为分割的比例，例如test_radio = 0.2 对应的分割比例为 训练集：测试集 = 1:4\n",
    "seed 为随机种子 可使得随机数具有预见性，即当参数相同时使得每次生成的随机数相同\n",
    "\n",
    "返回值：\n",
    "x_train 训练特征集\n",
    "y_train 训练目标集\n",
    "x_test 测试特征集\n",
    "y_test 测试目标集\n",
    "\"\"\"\n",
    "def train_test_split(x, y, test_size, seed = None):\n",
    "    \"\"\"将数据 X 和 y 按照test_ratio分割成X_train, X_test, y_train, y_test\"\"\"\n",
    "    lengh = len(x)\n",
    "    test_radio = round(lengh*test_size)\n",
    "    if seed:\n",
    "        np.random.seed(seed)\n",
    "    shuffled_indexes = np.random.permutation(lengh)\n",
    "    x_test = [x[shuffled_indexes[i]] for i in range(test_radio)]\n",
    "    y_test = [y[shuffled_indexes[i]] for i in range(test_radio)]\n",
    "    x_train = [x[shuffled_indexes[i]] for i in range(test_radio, lengh)]\n",
    "    y_train = [y[shuffled_indexes[i]] for i in range(test_radio, lengh)]\n",
    "    return x_train, x_test, y_train, y_test"
   ]
  },
  {
   "cell_type": "code",
   "execution_count": 4,
   "metadata": {},
   "outputs": [],
   "source": [
    "\n",
    "class KNNClassifier(object):\n",
    "    \"\"\"模拟KNN分类器\"\"\"\n",
    "    def __init__(self, k):\n",
    "        assert k >= 1\n",
    "        self.k = k\n",
    "        self.x_train = None\n",
    "        self.y_train = None\n",
    "\n",
    "    def fit(self, x_train, y_train):\n",
    "        self.x_train = x_train\n",
    "        self.y_train = y_train\n",
    "\n",
    "    def _predict(self, x):\n",
    "        \"\"\"给定单个待预测数据x，返回x的预测结果值\"\"\"\n",
    "        distances = []\n",
    "        for i in range(len(self.x_train)):\n",
    "            distance = np.linalg.norm(x-self.x_train[i], 2)\n",
    "            distances.append((distance, self.y_train[i]))\n",
    "        distances.sort()\n",
    "        neightbors = distances[:self.k]\n",
    "        target = [i[-1] for i in neightbors]\n",
    "        return Counter(target).most_common()[0][0]\n",
    "\n",
    "    def predict(self, X_predict):\n",
    "        \"\"\"给定待预测数据集X_predict，返回表示X_predict的结果向量\"\"\"\n",
    "        return [self._predict(i) for i in X_predict]\n",
    "\n",
    "    def score(self, x_test, y_test):\n",
    "        \"\"\"根据测试数据集 X_test 和 y_test 确定当前模型的准确度\"\"\"\n",
    "        s = 0\n",
    "        right = 0\n",
    "        for i in range(len(x_test)):\n",
    "            s += 1\n",
    "            if self._predict(x_test[i]) == y_test[i]:\n",
    "                right += 1\n",
    "        return right/s\n",
    "\n",
    "    def __repr__(self):\n",
    "        return \"KNN(k = %d)\" % self.k\n"
   ]
  },
  {
   "cell_type": "code",
   "execution_count": 5,
   "metadata": {},
   "outputs": [],
   "source": [
    "from sklearn import datasets #引入鸢尾花数据集\n",
    "from sklearn.preprocessing import StandardScaler"
   ]
  },
  {
   "cell_type": "code",
   "execution_count": 6,
   "metadata": {},
   "outputs": [
    {
     "name": "stdout",
     "output_type": "stream",
     "text": [
      "编写的knn分类器的结果：\n",
      "训练结果： [0, 0, 2, 2, 2, 1, 2, 0, 2, 2, 1, 0, 0, 1, 2, 1, 2, 0, 0, 2, 0, 2, 1, 2, 1, 1, 1, 0, 0, 1, 0, 1, 1, 1, 1, 2, 2, 2] \n",
      " 正确答案： [0, 0, 2, 2, 2, 1, 2, 0, 2, 2, 2, 0, 0, 1, 2, 1, 2, 0, 0, 2, 0, 2, 1, 2, 1, 1, 1, 0, 0, 1, 0, 1, 1, 1, 1, 2, 2, 2] \n",
      " 准确率： 0.9736842105263158\n"
     ]
    }
   ],
   "source": [
    "iris = datasets.load_iris() # 导入数据\n",
    "x = iris.data # 将特征值和目标值分别赋给x，y\n",
    "y = iris.target\n",
    "\n",
    "# 将数据分为训练集和测试集\n",
    "x_train, x_test, y_train, y_test = train_test_split(x, y, test_size = 0.25)\n",
    "\n",
    "# 对训练集和测试集中的特征值数据进行标准化\n",
    "std = StandardScaler()\n",
    "x_train = std.fit_transform(x_train)\n",
    "x_test = std.transform(x_test)\n",
    "\n",
    "# 使用knn分类器\n",
    "knn = KNNClassifier(4)\n",
    "knn.fit(x_train, y_train)\n",
    "\n",
    "# 输入测试集\n",
    "predict = knn.predict(x_test)\n",
    "\n",
    "# 准确率\n",
    "accuracy = knn.score(x_test, y_test)\n",
    "\n",
    "print(\"编写的knn分类器的结果：\")\n",
    "print('训练结果：',predict,'\\n','正确答案：',y_test,'\\n','准确率：',accuracy)"
   ]
  },
  {
   "cell_type": "code",
   "execution_count": 7,
   "metadata": {},
   "outputs": [],
   "source": [
    "from sklearn.model_selection import train_test_split as tts\n",
    "from sklearn.neighbors import KNeighborsClassifier"
   ]
  },
  {
   "cell_type": "code",
   "execution_count": 8,
   "metadata": {},
   "outputs": [
    {
     "name": "stdout",
     "output_type": "stream",
     "text": [
      "sklearn的knn分类器的结果：\n",
      "训练结果： [0 1 1 1 0 0 2 0 2 2 2 1 2 1 1 0 2 1 2 1 1 0 0 0 0 0 2 2 0 2 2 1 1 2 0 2 2\n",
      " 2] \n",
      " 正确答案： [0 1 1 1 0 0 2 0 2 2 2 1 2 1 1 0 2 2 2 1 1 0 0 0 0 0 2 2 0 2 2 1 1 2 0 2 2\n",
      " 2] \n",
      " 准确率： 0.9736842105263158\n"
     ]
    }
   ],
   "source": [
    "# 将数据分为训练集和测试集\n",
    "x_train, x_test, y_train, y_test = tts(x, y, test_size = 0.25)\n",
    "knn = KNeighborsClassifier(4)\n",
    "knn.fit(x_train, y_train)\n",
    "\n",
    "# 输入测试集\n",
    "predict = knn.predict(x_test)\n",
    "\n",
    "# 准确率\n",
    "accuracy = knn.score(x_test, y_test)\n",
    "\n",
    "print(\"sklearn的knn分类器的结果：\")\n",
    "print('训练结果：',predict,'\\n','正确答案：',y_test,'\\n','准确率：',accuracy)"
   ]
  },
  {
   "cell_type": "code",
   "execution_count": null,
   "metadata": {},
   "outputs": [],
   "source": []
  }
 ],
 "metadata": {
  "kernelspec": {
   "display_name": "Python 3",
   "language": "python",
   "name": "python3"
  },
  "language_info": {
   "codemirror_mode": {
    "name": "ipython",
    "version": 3
   },
   "file_extension": ".py",
   "mimetype": "text/x-python",
   "name": "python",
   "nbconvert_exporter": "python",
   "pygments_lexer": "ipython3",
   "version": "3.7.3"
  }
 },
 "nbformat": 4,
 "nbformat_minor": 2
}
