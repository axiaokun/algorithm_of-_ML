{
 "cells": [
  {
   "cell_type": "code",
   "execution_count": 1,
   "metadata": {},
   "outputs": [],
   "source": [
    "import numpy as np\n",
    "from sklearn.datasets import load_boston\n",
    "from sklearn.linear_model import SGDRegressor\n",
    "from sklearn.preprocessing import StandardScaler"
   ]
  },
  {
   "cell_type": "code",
   "execution_count": 2,
   "metadata": {},
   "outputs": [],
   "source": [
    "class SGD_simple():\n",
    "    \n",
    "    def __init__(self, eta=0.01, n_iterations=50000, epsilon=1e-5):\n",
    "        self.eta = eta\n",
    "        self.n_iterations = n_iterations\n",
    "        self.epsilon = epsilon\n",
    "        self.fit_theta = None\n",
    "        self.coef_ = None\n",
    "        self.intercept_ = None\n",
    "        self.loop = 0\n",
    "\n",
    "    def fit(self, X, y):\n",
    "        iteration = 0\n",
    "        loss = 1\n",
    "        y = y.reshape((len(y), 1))\n",
    "        X_b = np.c_[np.ones((X.shape[0], 1)), X]  # 创建一列全为1的向量作为截距的特征值与原来的特征空间，作为新的特征空间\n",
    "        theta = np.random.rand(X_b.shape[1], 1)  # 初始化权重\n",
    "        sample = X_b.shape[0]\n",
    "        while iteration < self.n_iterations and loss > self.epsilon:\n",
    "            last_theta = theta\n",
    "            iteration += 1\n",
    "            random_index = np.random.randint(sample)  # 随机取出一个样本\n",
    "            X_i = X_b[random_index:random_index+1]\n",
    "            y_i = y[random_index:random_index+1]\n",
    "            gradients = 2 * X_i.T.dot(X_i.dot(theta) - y_i)  # 计算梯度\n",
    "            theta = theta - self.eta * gradients  # 更新权重\n",
    "            loss = np.linalg.norm(theta - last_theta)  # 计算两次权重间的距离\n",
    "        self.fit_theta = theta\n",
    "        self.coef_ = theta[1:].reshape(X.shape[1])\n",
    "        self.intercept_ = theta[:1].reshape(1)\n",
    "        self.loop  = iteration\n",
    "\n",
    "    def predict(self, X_i):\n",
    "        X_b = np.c_[np.ones((X_i.shape[0], 1)), X_i]\n",
    "        return X_b.dot(self.fit_theta)"
   ]
  },
  {
   "cell_type": "code",
   "execution_count": 3,
   "metadata": {},
   "outputs": [],
   "source": [
    "class BGD_simple():\n",
    "\n",
    "    def __init__(self, eta=0.01, n_iterations=10000, epsilon=1e-5):\n",
    "        self.eta = eta\n",
    "        self.n_iterations = n_iterations\n",
    "        self.epsilon = epsilon\n",
    "        self.fit_theta = None\n",
    "        self.coef_ = None\n",
    "        self.intercept_ = None\n",
    "        self.loop = 0\n",
    "\n",
    "    def fit(self, X, y):\n",
    "        iteration = 0\n",
    "        loss = 1\n",
    "        y = y.reshape((len(y), 1))\n",
    "        X_b = np.c_[np.ones((X.shape[0], 1)), X]\n",
    "        theta = np.random.rand(X_b.shape[1], 1)\n",
    "        sample = X_b.shape[0]\n",
    "        while iteration < self.n_iterations and loss > self.epsilon:\n",
    "            last_theta = theta\n",
    "            iteration += 1\n",
    "            gradients = 2/sample * X_b.T.dot(X_b.dot(theta) - y)\n",
    "            theta = theta - self.eta * gradients\n",
    "            loss = np.linalg.norm(theta - last_theta)\n",
    "        self.fit_theta = theta\n",
    "        self.coef_ = theta[1:].reshape(X.shape[1])\n",
    "        self.intercept_ = theta[:1].reshape(1)\n",
    "        self.loop  = iteration\n",
    "\n",
    "    def predict(self, X_i):\n",
    "        X_b = np.c_[np.ones((X_i.shape[0], 1)), X_i]\n",
    "        return X_b.dot(self.fit_theta)"
   ]
  },
  {
   "cell_type": "code",
   "execution_count": 4,
   "metadata": {},
   "outputs": [],
   "source": [
    "class MBGD_simple():\n",
    "\n",
    "    def __init__(self, eta=0.01, n_iterations=10000, epsilon=1e-5, batch_size=2):\n",
    "        self.eta = eta\n",
    "        self.n_iterations = n_iterations\n",
    "        self.epsilon = epsilon\n",
    "        self.batch_size = batch_size\n",
    "        self.fit_theta = None\n",
    "        self.coef_ = None\n",
    "        self.intercept_ = None\n",
    "        self.loop = 0\n",
    "\n",
    "    def fit(self, X, y):\n",
    "        iteration = 0\n",
    "        loss = 1\n",
    "        y = y.reshape((len(y), 1))\n",
    "        X_b = np.c_[np.ones((X.shape[0], 1)), X]\n",
    "        theta = np.random.rand(X_b.shape[1], 1)\n",
    "        sample = X_b.shape[0]\n",
    "        while iteration < self.n_iterations and loss > self.epsilon:\n",
    "            last_theta = theta\n",
    "            iteration += 1\n",
    "            for _ in range(self.batch_size):\n",
    "                i = np.random.randint(sample)\n",
    "                X_i = X_b[i: i + 1]\n",
    "                y_i = y[i: i + 1]\n",
    "                gradients = 2 * X_i.T.dot(X_i.dot(theta) - y_i)\n",
    "                theta = theta - self.eta * gradients\n",
    "            loss = np.linalg.norm(theta - last_theta)\n",
    "        self.fit_theta = theta\n",
    "        self.coef_ = theta[1:].reshape(X.shape[1])\n",
    "        self.intercept_ = theta[:1].reshape(1)\n",
    "        self.loop  = iteration\n",
    "\n",
    "    def predict(self, X_i):\n",
    "        X_b = np.c_[np.ones((X_i.shape[0], 1)), X_i]\n",
    "        return X_b.dot(self.fit_theta)"
   ]
  },
  {
   "cell_type": "code",
   "execution_count": 5,
   "metadata": {},
   "outputs": [],
   "source": [
    "class LinearRegression_simple():\n",
    "\n",
    "    def __init__(self):\n",
    "        self.coef_ = None\n",
    "        self.intercept_ = None\n",
    "        self.fit_theta = None\n",
    "\n",
    "    def fit(self, X, y):\n",
    "        X_b = np.c_[np.ones((X.shape[0], 1)), X]\n",
    "        y = y.reshape(len(y), 1)\n",
    "        self.fit_theta = np.linalg.inv(X_b.T.dot(X_b)).dot(X_b.T).dot(y)\n",
    "        self.coef_ = self.fit_theta[1:].reshape(X.shape[1])\n",
    "        self.intercept_ = self.fit_theta[0].reshape(1)\n",
    "\n",
    "    def predict(self, X_i):\n",
    "        X_b = np.c_[np.ones((X_i.shape[0]), 1), X_i]\n",
    "        return X_b.dot(self.fit_theta)"
   ]
  },
  {
   "cell_type": "code",
   "execution_count": 6,
   "metadata": {},
   "outputs": [],
   "source": [
    "boston = load_boston()\n",
    "X = boston['data']\n",
    "y = boston['target']\n",
    "scaler = StandardScaler()\n",
    "X = scaler.fit_transform(X)"
   ]
  },
  {
   "cell_type": "code",
   "execution_count": 7,
   "metadata": {},
   "outputs": [
    {
     "name": "stdout",
     "output_type": "stream",
     "text": [
      "[22.06454847] [-1.22834773  1.32106937 -0.30760342  0.84767901 -1.858552    1.30289628\n",
      " -0.94157253 -3.47282298  2.86632204 -1.76793421 -3.10390136  0.58553835\n",
      " -3.1115816 ] 6680\n"
     ]
    }
   ],
   "source": [
    "estimator = SGD_simple()\n",
    "estimator.fit(X, y)\n",
    "print(estimator.intercept_, estimator.coef_, estimator.loop)"
   ]
  },
  {
   "cell_type": "code",
   "execution_count": 8,
   "metadata": {},
   "outputs": [
    {
     "name": "stdout",
     "output_type": "stream",
     "text": [
      "[22.53280632] [-0.92778511  1.08093304  0.13892795  0.68202186 -2.05637533  2.67458811\n",
      "  0.01916323 -3.10418784  2.65724203 -2.07112486 -2.06042282  0.84923338\n",
      " -3.74343522] 4817\n"
     ]
    }
   ],
   "source": [
    "estimator = BGD_simple()\n",
    "estimator.fit(X, y)\n",
    "print(estimator.intercept_, estimator.coef_, estimator.loop)"
   ]
  },
  {
   "cell_type": "code",
   "execution_count": 9,
   "metadata": {},
   "outputs": [
    {
     "name": "stdout",
     "output_type": "stream",
     "text": [
      "[21.93305455] [-1.26915505  1.22502814  0.85800182 -0.05622181 -2.24101636  3.1469996\n",
      "  0.55161056 -3.61495283  2.6051025  -1.78839978 -1.89578878  1.25159043\n",
      " -3.28913484] 10000\n"
     ]
    }
   ],
   "source": [
    "estimator = MBGD_simple()\n",
    "estimator.fit(X, y)\n",
    "print(estimator.intercept_, estimator.coef_, estimator.loop)"
   ]
  },
  {
   "cell_type": "code",
   "execution_count": 10,
   "metadata": {},
   "outputs": [
    {
     "name": "stdout",
     "output_type": "stream",
     "text": [
      "[22.55735009] [-0.83912539  0.96991    -0.09526012  0.71921819 -1.88419786  2.70849453\n",
      " -0.01848842 -3.05871429  2.03702462 -1.34393621 -1.99501806  0.81312472\n",
      " -3.64932993]\n"
     ]
    }
   ],
   "source": [
    "estimator = SGDRegressor()\n",
    "estimator.fit(X, y)\n",
    "print(estimator.intercept_, estimator.coef_)"
   ]
  },
  {
   "cell_type": "code",
   "execution_count": 11,
   "metadata": {},
   "outputs": [
    {
     "name": "stdout",
     "output_type": "stream",
     "text": [
      "[22.53280632] [-0.92814606  1.08156863  0.1409      0.68173972 -2.05671827  2.67423017\n",
      "  0.01946607 -3.10404426  2.66221764 -2.07678168 -2.06060666  0.84926842\n",
      " -3.74362713]\n"
     ]
    }
   ],
   "source": [
    "estimator = LinearRegression_simple()\n",
    "estimator.fit(X, y)\n",
    "print(estimator.intercept_, estimator.coef_)"
   ]
  }
 ],
 "metadata": {
  "kernelspec": {
   "display_name": "Python 3",
   "language": "python",
   "name": "python3"
  },
  "language_info": {
   "codemirror_mode": {
    "name": "ipython",
    "version": 3
   },
   "file_extension": ".py",
   "mimetype": "text/x-python",
   "name": "python",
   "nbconvert_exporter": "python",
   "pygments_lexer": "ipython3",
   "version": "3.7.3"
  }
 },
 "nbformat": 4,
 "nbformat_minor": 2
}
